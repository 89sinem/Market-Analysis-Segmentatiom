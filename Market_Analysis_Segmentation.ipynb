{
 "cells": [
  {
   "cell_type": "markdown",
   "metadata": {
    "id": "qRFNhaZpulKb"
   },
   "source": [
    "# Market Segmentation"
   ]
  },
  {
   "cell_type": "markdown",
   "metadata": {},
   "source": [
    "### Data Information"
   ]
  },
  {
   "cell_type": "markdown",
   "metadata": {},
   "source": [
    "In recent years, Lobster Land Amusement Park has allowed a limited number of food trucks to enter the park during each day of operations.  \n",
    "Each row contains information about one food truck vendor who is potentially interested in gaining access to Lobster Land at some point during the 2024 summer season.  Since Lobster Land can only grant access to a limited number of food trucks at a time, they are hoping that our clustering skills can help them to sort through this data and get a better sense of how to proceed. "
   ]
  },
  {
   "cell_type": "markdown",
   "metadata": {
    "id": "4l5joWZoxmeb"
   },
   "source": [
    "### Dataset Description\n",
    "\n",
    "|Variable|Description|\n",
    "| :- | :- |\n",
    "|**vendorID**|Each vendor in the dataset has a customerID number from 1 to 654. This was done so that vendor data can be tracked.| \n",
    "|**avg_transaction_cost**|The average customer expenditure per transaction at this particular food truck.|\n",
    "|**mnths_operational**|This shows how long this particular food truck has been operational, as measured in months.|\n",
    "|**days_yr**|This is the number of days per year that the food truck vendor plans to operate this truck.|\n",
    "|**avg_cost_item**|This is the average customer expenditure per item sold at this particular food truck.|\n",
    "|**dist_lobland**|This is the distance, in miles, between the vendor’s home address and the front gate to Lobster Land.|\n",
    "|**number_trucks**|This is the total number of food trucks currently operated & managed by the vendor.|\n",
    "|**bev_percent**|This is an estimate of the percentage of sales made at this food truck that are attributable to beverages (as opposed to food.)|"
   ]
  },
  {
   "cell_type": "code",
   "execution_count": null,
   "metadata": {},
   "outputs": [],
   "source": []
  },
  {
   "cell_type": "markdown",
   "metadata": {},
   "source": [
    "## Libraries"
   ]
  },
  {
   "cell_type": "code",
   "execution_count": 1,
   "metadata": {},
   "outputs": [],
   "source": [
    "import pandas as pd\n",
    "import matplotlib.pyplot as plt\n",
    "import seaborn as sns\n",
    "import matplotlib.patches as mpatches\n",
    "from sklearn.preprocessing import StandardScaler\n",
    "from sklearn.cluster import KMeans"
   ]
  },
  {
   "cell_type": "code",
   "execution_count": null,
   "metadata": {},
   "outputs": [],
   "source": []
  },
  {
   "cell_type": "markdown",
   "metadata": {},
   "source": [
    "## - Reading the data"
   ]
  },
  {
   "cell_type": "code",
   "execution_count": 2,
   "metadata": {},
   "outputs": [
    {
     "data": {
      "text/html": [
       "<div>\n",
       "<style scoped>\n",
       "    .dataframe tbody tr th:only-of-type {\n",
       "        vertical-align: middle;\n",
       "    }\n",
       "\n",
       "    .dataframe tbody tr th {\n",
       "        vertical-align: top;\n",
       "    }\n",
       "\n",
       "    .dataframe thead th {\n",
       "        text-align: right;\n",
       "    }\n",
       "</style>\n",
       "<table border=\"1\" class=\"dataframe\">\n",
       "  <thead>\n",
       "    <tr style=\"text-align: right;\">\n",
       "      <th></th>\n",
       "      <th>vendorID</th>\n",
       "      <th>avg_transaction_cost</th>\n",
       "      <th>mnths_operational</th>\n",
       "      <th>days_yr</th>\n",
       "      <th>avg_cost_item</th>\n",
       "      <th>number_trucks</th>\n",
       "      <th>dist_lobland</th>\n",
       "      <th>bev_percent</th>\n",
       "    </tr>\n",
       "  </thead>\n",
       "  <tbody>\n",
       "    <tr>\n",
       "      <th>0</th>\n",
       "      <td>1</td>\n",
       "      <td>12.40</td>\n",
       "      <td>3.0</td>\n",
       "      <td>163</td>\n",
       "      <td>6.83</td>\n",
       "      <td>2</td>\n",
       "      <td>0.12</td>\n",
       "      <td>30.0</td>\n",
       "    </tr>\n",
       "    <tr>\n",
       "      <th>1</th>\n",
       "      <td>2</td>\n",
       "      <td>12.10</td>\n",
       "      <td>1.8</td>\n",
       "      <td>140</td>\n",
       "      <td>3.62</td>\n",
       "      <td>5</td>\n",
       "      <td>269.24</td>\n",
       "      <td>40.5</td>\n",
       "    </tr>\n",
       "    <tr>\n",
       "      <th>2</th>\n",
       "      <td>3</td>\n",
       "      <td>13.52</td>\n",
       "      <td>6.0</td>\n",
       "      <td>139</td>\n",
       "      <td>3.86</td>\n",
       "      <td>5</td>\n",
       "      <td>8.17</td>\n",
       "      <td>35.7</td>\n",
       "    </tr>\n",
       "    <tr>\n",
       "      <th>3</th>\n",
       "      <td>4</td>\n",
       "      <td>15.56</td>\n",
       "      <td>4.0</td>\n",
       "      <td>124</td>\n",
       "      <td>4.05</td>\n",
       "      <td>3</td>\n",
       "      <td>99.09</td>\n",
       "      <td>32.8</td>\n",
       "    </tr>\n",
       "    <tr>\n",
       "      <th>4</th>\n",
       "      <td>5</td>\n",
       "      <td>15.08</td>\n",
       "      <td>8.5</td>\n",
       "      <td>186</td>\n",
       "      <td>6.51</td>\n",
       "      <td>5</td>\n",
       "      <td>33.42</td>\n",
       "      <td>35.6</td>\n",
       "    </tr>\n",
       "    <tr>\n",
       "      <th>...</th>\n",
       "      <td>...</td>\n",
       "      <td>...</td>\n",
       "      <td>...</td>\n",
       "      <td>...</td>\n",
       "      <td>...</td>\n",
       "      <td>...</td>\n",
       "      <td>...</td>\n",
       "      <td>...</td>\n",
       "    </tr>\n",
       "    <tr>\n",
       "      <th>243</th>\n",
       "      <td>244</td>\n",
       "      <td>14.70</td>\n",
       "      <td>2.5</td>\n",
       "      <td>153</td>\n",
       "      <td>10.13</td>\n",
       "      <td>3</td>\n",
       "      <td>127.16</td>\n",
       "      <td>40.2</td>\n",
       "    </tr>\n",
       "    <tr>\n",
       "      <th>244</th>\n",
       "      <td>245</td>\n",
       "      <td>14.75</td>\n",
       "      <td>1.1</td>\n",
       "      <td>170</td>\n",
       "      <td>7.88</td>\n",
       "      <td>4</td>\n",
       "      <td>36.29</td>\n",
       "      <td>41.6</td>\n",
       "    </tr>\n",
       "    <tr>\n",
       "      <th>245</th>\n",
       "      <td>246</td>\n",
       "      <td>15.89</td>\n",
       "      <td>0.7</td>\n",
       "      <td>162</td>\n",
       "      <td>3.22</td>\n",
       "      <td>4</td>\n",
       "      <td>44.35</td>\n",
       "      <td>37.8</td>\n",
       "    </tr>\n",
       "    <tr>\n",
       "      <th>246</th>\n",
       "      <td>247</td>\n",
       "      <td>16.17</td>\n",
       "      <td>1.2</td>\n",
       "      <td>153</td>\n",
       "      <td>4.62</td>\n",
       "      <td>4</td>\n",
       "      <td>91.98</td>\n",
       "      <td>41.1</td>\n",
       "    </tr>\n",
       "    <tr>\n",
       "      <th>247</th>\n",
       "      <td>248</td>\n",
       "      <td>14.10</td>\n",
       "      <td>2.8</td>\n",
       "      <td>148</td>\n",
       "      <td>3.26</td>\n",
       "      <td>6</td>\n",
       "      <td>30.15</td>\n",
       "      <td>34.8</td>\n",
       "    </tr>\n",
       "  </tbody>\n",
       "</table>\n",
       "<p>248 rows × 8 columns</p>\n",
       "</div>"
      ],
      "text/plain": [
       "     vendorID  avg_transaction_cost  mnths_operational  days_yr  \\\n",
       "0           1                 12.40                3.0      163   \n",
       "1           2                 12.10                1.8      140   \n",
       "2           3                 13.52                6.0      139   \n",
       "3           4                 15.56                4.0      124   \n",
       "4           5                 15.08                8.5      186   \n",
       "..        ...                   ...                ...      ...   \n",
       "243       244                 14.70                2.5      153   \n",
       "244       245                 14.75                1.1      170   \n",
       "245       246                 15.89                0.7      162   \n",
       "246       247                 16.17                1.2      153   \n",
       "247       248                 14.10                2.8      148   \n",
       "\n",
       "     avg_cost_item  number_trucks  dist_lobland  bev_percent  \n",
       "0             6.83              2          0.12         30.0  \n",
       "1             3.62              5        269.24         40.5  \n",
       "2             3.86              5          8.17         35.7  \n",
       "3             4.05              3         99.09         32.8  \n",
       "4             6.51              5         33.42         35.6  \n",
       "..             ...            ...           ...          ...  \n",
       "243          10.13              3        127.16         40.2  \n",
       "244           7.88              4         36.29         41.6  \n",
       "245           3.22              4         44.35         37.8  \n",
       "246           4.62              4         91.98         41.1  \n",
       "247           3.26              6         30.15         34.8  \n",
       "\n",
       "[248 rows x 8 columns]"
      ]
     },
     "execution_count": 2,
     "metadata": {},
     "output_type": "execute_result"
    }
   ],
   "source": [
    "df = pd.read_csv(r\"food_trucks.csv\")\n",
    "df"
   ]
  },
  {
   "cell_type": "code",
   "execution_count": null,
   "metadata": {},
   "outputs": [],
   "source": []
  },
  {
   "cell_type": "markdown",
   "metadata": {},
   "source": [
    "## - Data shape"
   ]
  },
  {
   "cell_type": "code",
   "execution_count": 3,
   "metadata": {},
   "outputs": [
    {
     "data": {
      "text/plain": [
       "(248, 8)"
      ]
     },
     "execution_count": 3,
     "metadata": {},
     "output_type": "execute_result"
    }
   ],
   "source": [
    "df.shape"
   ]
  },
  {
   "cell_type": "markdown",
   "metadata": {},
   "source": [
    "<strong>RESULT:</strong><br>\n",
    "There are 248 rows (observations) and 8 columns (variables). "
   ]
  },
  {
   "cell_type": "code",
   "execution_count": null,
   "metadata": {},
   "outputs": [],
   "source": []
  },
  {
   "cell_type": "markdown",
   "metadata": {},
   "source": [
    "## - Data types"
   ]
  },
  {
   "cell_type": "code",
   "execution_count": 4,
   "metadata": {},
   "outputs": [
    {
     "data": {
      "text/plain": [
       "vendorID                  int64\n",
       "avg_transaction_cost    float64\n",
       "mnths_operational       float64\n",
       "days_yr                   int64\n",
       "avg_cost_item           float64\n",
       "number_trucks             int64\n",
       "dist_lobland            float64\n",
       "bev_percent             float64\n",
       "dtype: object"
      ]
     },
     "execution_count": 4,
     "metadata": {},
     "output_type": "execute_result"
    }
   ],
   "source": [
    "df.dtypes"
   ]
  },
  {
   "cell_type": "code",
   "execution_count": null,
   "metadata": {},
   "outputs": [],
   "source": []
  },
  {
   "cell_type": "markdown",
   "metadata": {},
   "source": [
    "## Drop Column\n",
    "The vendor ID is a unique categorical variable in the dataset.<br>\n",
    "By including this variable the model is subject to overfitting\n",
    "that is the model will work well with the training data but poorly on a new observation,<br>\n",
    "which will have an ID that is not part of the training data's vendor ID."
   ]
  },
  {
   "cell_type": "code",
   "execution_count": 5,
   "metadata": {},
   "outputs": [
    {
     "name": "stdout",
     "output_type": "stream",
     "text": [
      "True\n"
     ]
    }
   ],
   "source": [
    "# Check to see if the vendorID is a unique identifier\n",
    "unique_vendors_equal_rows = len(df['vendorID'].unique()) == len(df)\n",
    "print(unique_vendors_equal_rows)"
   ]
  },
  {
   "cell_type": "code",
   "execution_count": 6,
   "metadata": {},
   "outputs": [
    {
     "data": {
      "text/plain": [
       "Index(['avg_transaction_cost', 'mnths_operational', 'days_yr', 'avg_cost_item',\n",
       "       'number_trucks', 'dist_lobland', 'bev_percent'],\n",
       "      dtype='object')"
      ]
     },
     "execution_count": 6,
     "metadata": {},
     "output_type": "execute_result"
    }
   ],
   "source": [
    "df.drop(df.columns[0], axis=1, inplace=True)\n",
    "df.columns"
   ]
  },
  {
   "cell_type": "code",
   "execution_count": 7,
   "metadata": {},
   "outputs": [
    {
     "data": {
      "text/plain": [
       "(248, 7)"
      ]
     },
     "execution_count": 7,
     "metadata": {},
     "output_type": "execute_result"
    }
   ],
   "source": [
    "# Verify the column number\n",
    "df.shape"
   ]
  },
  {
   "cell_type": "code",
   "execution_count": null,
   "metadata": {},
   "outputs": [],
   "source": []
  },
  {
   "cell_type": "markdown",
   "metadata": {},
   "source": [
    "## Missing Values\n",
    "There are no missing values in this data set."
   ]
  },
  {
   "cell_type": "code",
   "execution_count": 8,
   "metadata": {},
   "outputs": [
    {
     "name": "stdout",
     "output_type": "stream",
     "text": [
      "False\n"
     ]
    }
   ],
   "source": [
    "any_missing_values = df.isna().any().any()\n",
    "print(any_missing_values)"
   ]
  },
  {
   "cell_type": "code",
   "execution_count": 9,
   "metadata": {},
   "outputs": [
    {
     "name": "stdout",
     "output_type": "stream",
     "text": [
      "False\n"
     ]
    }
   ],
   "source": [
    "any_null_values = df.isnull().any().any()\n",
    "print(any_null_values)"
   ]
  },
  {
   "cell_type": "markdown",
   "metadata": {},
   "source": [
    "## Duplicate Values"
   ]
  },
  {
   "cell_type": "code",
   "execution_count": 10,
   "metadata": {},
   "outputs": [
    {
     "name": "stdout",
     "output_type": "stream",
     "text": [
      "No duplicate rows found in the dataset.\n"
     ]
    }
   ],
   "source": [
    "# Check for duplicate rows in the entire DataFrame\n",
    "duplicate_rows = df[df.duplicated()]\n",
    "\n",
    "# Display duplicate rows (if any)\n",
    "if not duplicate_rows.empty:\n",
    "    print(f\"Number of duplicate rows: {len(duplicate_rows)}\")\n",
    "    display(duplicate_rows)\n",
    "else:\n",
    "    print(\"No duplicate rows found in the dataset.\")"
   ]
  },
  {
   "cell_type": "code",
   "execution_count": null,
   "metadata": {},
   "outputs": [],
   "source": []
  },
  {
   "cell_type": "markdown",
   "metadata": {},
   "source": [
    "## Summary Statistics\n",
    "The <b>describe() function</b> describes the 5 number summary as well as the mean foreach column in the data.<br>\n",
    "We can also see if the minimum or maximum value in each column exceeds a specified range,<br>\n",
    "such as the minimum value being negative, or the maximum value being extremely large."
   ]
  },
  {
   "cell_type": "code",
   "execution_count": 11,
   "metadata": {},
   "outputs": [
    {
     "data": {
      "text/html": [
       "<div>\n",
       "<style scoped>\n",
       "    .dataframe tbody tr th:only-of-type {\n",
       "        vertical-align: middle;\n",
       "    }\n",
       "\n",
       "    .dataframe tbody tr th {\n",
       "        vertical-align: top;\n",
       "    }\n",
       "\n",
       "    .dataframe thead th {\n",
       "        text-align: right;\n",
       "    }\n",
       "</style>\n",
       "<table border=\"1\" class=\"dataframe\">\n",
       "  <thead>\n",
       "    <tr style=\"text-align: right;\">\n",
       "      <th></th>\n",
       "      <th>avg_transaction_cost</th>\n",
       "      <th>mnths_operational</th>\n",
       "      <th>days_yr</th>\n",
       "      <th>avg_cost_item</th>\n",
       "      <th>number_trucks</th>\n",
       "      <th>dist_lobland</th>\n",
       "      <th>bev_percent</th>\n",
       "    </tr>\n",
       "  </thead>\n",
       "  <tbody>\n",
       "    <tr>\n",
       "      <th>count</th>\n",
       "      <td>248.000000</td>\n",
       "      <td>248.000000</td>\n",
       "      <td>248.000000</td>\n",
       "      <td>248.000000</td>\n",
       "      <td>248.000000</td>\n",
       "      <td>248.000000</td>\n",
       "      <td>248.000000</td>\n",
       "    </tr>\n",
       "    <tr>\n",
       "      <th>mean</th>\n",
       "      <td>14.334274</td>\n",
       "      <td>3.622581</td>\n",
       "      <td>148.822581</td>\n",
       "      <td>5.008468</td>\n",
       "      <td>3.044355</td>\n",
       "      <td>52.435484</td>\n",
       "      <td>40.824194</td>\n",
       "    </tr>\n",
       "    <tr>\n",
       "      <th>std</th>\n",
       "      <td>1.412888</td>\n",
       "      <td>3.779335</td>\n",
       "      <td>18.942080</td>\n",
       "      <td>1.683380</td>\n",
       "      <td>1.719750</td>\n",
       "      <td>52.002194</td>\n",
       "      <td>5.775277</td>\n",
       "    </tr>\n",
       "    <tr>\n",
       "      <th>min</th>\n",
       "      <td>8.810000</td>\n",
       "      <td>0.000000</td>\n",
       "      <td>88.000000</td>\n",
       "      <td>-0.270000</td>\n",
       "      <td>0.000000</td>\n",
       "      <td>0.120000</td>\n",
       "      <td>25.400000</td>\n",
       "    </tr>\n",
       "    <tr>\n",
       "      <th>25%</th>\n",
       "      <td>13.360000</td>\n",
       "      <td>1.175000</td>\n",
       "      <td>136.750000</td>\n",
       "      <td>3.780000</td>\n",
       "      <td>2.000000</td>\n",
       "      <td>16.305000</td>\n",
       "      <td>37.200000</td>\n",
       "    </tr>\n",
       "    <tr>\n",
       "      <th>50%</th>\n",
       "      <td>14.395000</td>\n",
       "      <td>2.600000</td>\n",
       "      <td>149.000000</td>\n",
       "      <td>5.090000</td>\n",
       "      <td>3.000000</td>\n",
       "      <td>38.315000</td>\n",
       "      <td>40.700000</td>\n",
       "    </tr>\n",
       "    <tr>\n",
       "      <th>75%</th>\n",
       "      <td>15.242500</td>\n",
       "      <td>4.500000</td>\n",
       "      <td>162.000000</td>\n",
       "      <td>6.105000</td>\n",
       "      <td>4.000000</td>\n",
       "      <td>68.637500</td>\n",
       "      <td>44.200000</td>\n",
       "    </tr>\n",
       "    <tr>\n",
       "      <th>max</th>\n",
       "      <td>18.320000</td>\n",
       "      <td>27.300000</td>\n",
       "      <td>202.000000</td>\n",
       "      <td>10.130000</td>\n",
       "      <td>9.000000</td>\n",
       "      <td>271.730000</td>\n",
       "      <td>58.600000</td>\n",
       "    </tr>\n",
       "  </tbody>\n",
       "</table>\n",
       "</div>"
      ],
      "text/plain": [
       "       avg_transaction_cost  mnths_operational     days_yr  avg_cost_item  \\\n",
       "count            248.000000         248.000000  248.000000     248.000000   \n",
       "mean              14.334274           3.622581  148.822581       5.008468   \n",
       "std                1.412888           3.779335   18.942080       1.683380   \n",
       "min                8.810000           0.000000   88.000000      -0.270000   \n",
       "25%               13.360000           1.175000  136.750000       3.780000   \n",
       "50%               14.395000           2.600000  149.000000       5.090000   \n",
       "75%               15.242500           4.500000  162.000000       6.105000   \n",
       "max               18.320000          27.300000  202.000000      10.130000   \n",
       "\n",
       "       number_trucks  dist_lobland  bev_percent  \n",
       "count     248.000000    248.000000   248.000000  \n",
       "mean        3.044355     52.435484    40.824194  \n",
       "std         1.719750     52.002194     5.775277  \n",
       "min         0.000000      0.120000    25.400000  \n",
       "25%         2.000000     16.305000    37.200000  \n",
       "50%         3.000000     38.315000    40.700000  \n",
       "75%         4.000000     68.637500    44.200000  \n",
       "max         9.000000    271.730000    58.600000  "
      ]
     },
     "execution_count": 11,
     "metadata": {},
     "output_type": "execute_result"
    }
   ],
   "source": [
    "df.describe()"
   ]
  },
  {
   "cell_type": "code",
   "execution_count": null,
   "metadata": {},
   "outputs": [],
   "source": []
  },
  {
   "cell_type": "markdown",
   "metadata": {},
   "source": [
    "## Impossible Records\n",
    "If negative values are present in the dataset, we need to check to see if they are meant to be negative.<br>\n",
    "If not, we need to find those records and the percentage of negative values.<br>\n",
    "If the percentage is small and there are no related columns, we can simply remove them<br> Otherwise, we need to determine how to replace them."
   ]
  },
  {
   "cell_type": "code",
   "execution_count": 12,
   "metadata": {},
   "outputs": [
    {
     "name": "stdout",
     "output_type": "stream",
     "text": [
      "True\n"
     ]
    }
   ],
   "source": [
    "any_negative_values = (df < 0).any().any()\n",
    "print(any_negative_values) "
   ]
  },
  {
   "cell_type": "markdown",
   "metadata": {},
   "source": [
    "<strong>RESULT:</strong><br>\n",
    "There are negative values in the dataset. We need to identify which columns have negative: "
   ]
  },
  {
   "cell_type": "code",
   "execution_count": 13,
   "metadata": {},
   "outputs": [
    {
     "name": "stdout",
     "output_type": "stream",
     "text": [
      "['avg_cost_item']\n"
     ]
    },
    {
     "data": {
      "text/html": [
       "<div>\n",
       "<style scoped>\n",
       "    .dataframe tbody tr th:only-of-type {\n",
       "        vertical-align: middle;\n",
       "    }\n",
       "\n",
       "    .dataframe tbody tr th {\n",
       "        vertical-align: top;\n",
       "    }\n",
       "\n",
       "    .dataframe thead th {\n",
       "        text-align: right;\n",
       "    }\n",
       "</style>\n",
       "<table border=\"1\" class=\"dataframe\">\n",
       "  <thead>\n",
       "    <tr style=\"text-align: right;\">\n",
       "      <th></th>\n",
       "      <th>avg_transaction_cost</th>\n",
       "      <th>mnths_operational</th>\n",
       "      <th>days_yr</th>\n",
       "      <th>avg_cost_item</th>\n",
       "      <th>number_trucks</th>\n",
       "      <th>dist_lobland</th>\n",
       "      <th>bev_percent</th>\n",
       "    </tr>\n",
       "  </thead>\n",
       "  <tbody>\n",
       "    <tr>\n",
       "      <th>59</th>\n",
       "      <td>11.38</td>\n",
       "      <td>6.2</td>\n",
       "      <td>139</td>\n",
       "      <td>-0.27</td>\n",
       "      <td>2</td>\n",
       "      <td>2.87</td>\n",
       "      <td>42.2</td>\n",
       "    </tr>\n",
       "  </tbody>\n",
       "</table>\n",
       "</div>"
      ],
      "text/plain": [
       "    avg_transaction_cost  mnths_operational  days_yr  avg_cost_item  \\\n",
       "59                 11.38                6.2      139          -0.27   \n",
       "\n",
       "    number_trucks  dist_lobland  bev_percent  \n",
       "59              2          2.87         42.2  "
      ]
     },
     "execution_count": 13,
     "metadata": {},
     "output_type": "execute_result"
    }
   ],
   "source": [
    "# Finding the negative record in column\n",
    "negative_value_columns = [col for col in df.columns if any(df[col] < 0)]\n",
    "print(negative_value_columns)\n",
    "\n",
    "# finding the rows \n",
    "negative_value_rows = df[df[negative_value_columns].lt(0).any(axis=1)]\n",
    "negative_value_rows"
   ]
  },
  {
   "cell_type": "markdown",
   "metadata": {},
   "source": [
    "<strong>RESULT:</strong><br>\n",
    "The variable avg_cost_item has negative numbers.<br> \n",
    "This variable represents the average customer expenditure per item sold at this particular food truck which cannot be negative."
   ]
  },
  {
   "cell_type": "markdown",
   "metadata": {},
   "source": [
    "<strong>Handeling Negative Value:</strong><br>\n",
    "Finding the percentage:"
   ]
  },
  {
   "cell_type": "code",
   "execution_count": 14,
   "metadata": {},
   "outputs": [
    {
     "name": "stdout",
     "output_type": "stream",
     "text": [
      "0.4032258064516129\n"
     ]
    }
   ],
   "source": [
    "percentage_of_one_row = (1 / len(df)) * 100\n",
    "\n",
    "print(percentage_of_one_row)"
   ]
  },
  {
   "cell_type": "markdown",
   "metadata": {},
   "source": [
    "<strong>RESULT:</strong><br>\n",
    "There is only 1 observation that this affects.<br>\n",
    "The percentage of invalid data is 0.403%\n",
    "Since this is such a tiny percentage of the overall data, we can simply remove it.<br>\n",
    "If this had affected a larger percentage of observations,we may instead have imputed the negative values with the mean or median."
   ]
  },
  {
   "cell_type": "code",
   "execution_count": 15,
   "metadata": {},
   "outputs": [],
   "source": [
    "# Dropping the nagtive record.\n",
    "df = df[df['avg_cost_item'] > 0]"
   ]
  },
  {
   "cell_type": "code",
   "execution_count": 16,
   "metadata": {},
   "outputs": [
    {
     "name": "stdout",
     "output_type": "stream",
     "text": [
      "(247, 7)\n"
     ]
    },
    {
     "data": {
      "text/plain": [
       "False"
      ]
     },
     "execution_count": 16,
     "metadata": {},
     "output_type": "execute_result"
    }
   ],
   "source": [
    "# Verify the dimensions of the DataFrame\n",
    "dimensions = df.shape\n",
    "\n",
    "print(dimensions)\n",
    "\n",
    "(df < 0).values.any()"
   ]
  },
  {
   "cell_type": "code",
   "execution_count": 17,
   "metadata": {},
   "outputs": [
    {
     "data": {
      "text/html": [
       "<div>\n",
       "<style scoped>\n",
       "    .dataframe tbody tr th:only-of-type {\n",
       "        vertical-align: middle;\n",
       "    }\n",
       "\n",
       "    .dataframe tbody tr th {\n",
       "        vertical-align: top;\n",
       "    }\n",
       "\n",
       "    .dataframe thead th {\n",
       "        text-align: right;\n",
       "    }\n",
       "</style>\n",
       "<table border=\"1\" class=\"dataframe\">\n",
       "  <thead>\n",
       "    <tr style=\"text-align: right;\">\n",
       "      <th></th>\n",
       "      <th>avg_transaction_cost</th>\n",
       "      <th>mnths_operational</th>\n",
       "      <th>days_yr</th>\n",
       "      <th>avg_cost_item</th>\n",
       "      <th>number_trucks</th>\n",
       "      <th>dist_lobland</th>\n",
       "      <th>bev_percent</th>\n",
       "    </tr>\n",
       "  </thead>\n",
       "  <tbody>\n",
       "    <tr>\n",
       "      <th>count</th>\n",
       "      <td>247.000000</td>\n",
       "      <td>247.000000</td>\n",
       "      <td>247.000000</td>\n",
       "      <td>247.000000</td>\n",
       "      <td>247.000000</td>\n",
       "      <td>247.000000</td>\n",
       "      <td>247.000000</td>\n",
       "    </tr>\n",
       "    <tr>\n",
       "      <th>mean</th>\n",
       "      <td>14.346235</td>\n",
       "      <td>3.612146</td>\n",
       "      <td>148.862348</td>\n",
       "      <td>5.029838</td>\n",
       "      <td>3.048583</td>\n",
       "      <td>52.636154</td>\n",
       "      <td>40.818623</td>\n",
       "    </tr>\n",
       "    <tr>\n",
       "      <th>std</th>\n",
       "      <td>1.403120</td>\n",
       "      <td>3.783427</td>\n",
       "      <td>18.970165</td>\n",
       "      <td>1.652745</td>\n",
       "      <td>1.721949</td>\n",
       "      <td>52.011478</td>\n",
       "      <td>5.786336</td>\n",
       "    </tr>\n",
       "    <tr>\n",
       "      <th>min</th>\n",
       "      <td>8.810000</td>\n",
       "      <td>0.000000</td>\n",
       "      <td>88.000000</td>\n",
       "      <td>0.670000</td>\n",
       "      <td>0.000000</td>\n",
       "      <td>0.120000</td>\n",
       "      <td>25.400000</td>\n",
       "    </tr>\n",
       "    <tr>\n",
       "      <th>25%</th>\n",
       "      <td>13.375000</td>\n",
       "      <td>1.150000</td>\n",
       "      <td>136.500000</td>\n",
       "      <td>3.785000</td>\n",
       "      <td>2.000000</td>\n",
       "      <td>17.065000</td>\n",
       "      <td>37.200000</td>\n",
       "    </tr>\n",
       "    <tr>\n",
       "      <th>50%</th>\n",
       "      <td>14.400000</td>\n",
       "      <td>2.600000</td>\n",
       "      <td>149.000000</td>\n",
       "      <td>5.090000</td>\n",
       "      <td>3.000000</td>\n",
       "      <td>38.940000</td>\n",
       "      <td>40.700000</td>\n",
       "    </tr>\n",
       "    <tr>\n",
       "      <th>75%</th>\n",
       "      <td>15.245000</td>\n",
       "      <td>4.500000</td>\n",
       "      <td>162.000000</td>\n",
       "      <td>6.120000</td>\n",
       "      <td>4.000000</td>\n",
       "      <td>68.655000</td>\n",
       "      <td>44.200000</td>\n",
       "    </tr>\n",
       "    <tr>\n",
       "      <th>max</th>\n",
       "      <td>18.320000</td>\n",
       "      <td>27.300000</td>\n",
       "      <td>202.000000</td>\n",
       "      <td>10.130000</td>\n",
       "      <td>9.000000</td>\n",
       "      <td>271.730000</td>\n",
       "      <td>58.600000</td>\n",
       "    </tr>\n",
       "  </tbody>\n",
       "</table>\n",
       "</div>"
      ],
      "text/plain": [
       "       avg_transaction_cost  mnths_operational     days_yr  avg_cost_item  \\\n",
       "count            247.000000         247.000000  247.000000     247.000000   \n",
       "mean              14.346235           3.612146  148.862348       5.029838   \n",
       "std                1.403120           3.783427   18.970165       1.652745   \n",
       "min                8.810000           0.000000   88.000000       0.670000   \n",
       "25%               13.375000           1.150000  136.500000       3.785000   \n",
       "50%               14.400000           2.600000  149.000000       5.090000   \n",
       "75%               15.245000           4.500000  162.000000       6.120000   \n",
       "max               18.320000          27.300000  202.000000      10.130000   \n",
       "\n",
       "       number_trucks  dist_lobland  bev_percent  \n",
       "count     247.000000    247.000000   247.000000  \n",
       "mean        3.048583     52.636154    40.818623  \n",
       "std         1.721949     52.011478     5.786336  \n",
       "min         0.000000      0.120000    25.400000  \n",
       "25%         2.000000     17.065000    37.200000  \n",
       "50%         3.000000     38.940000    40.700000  \n",
       "75%         4.000000     68.655000    44.200000  \n",
       "max         9.000000    271.730000    58.600000  "
      ]
     },
     "execution_count": 17,
     "metadata": {},
     "output_type": "execute_result"
    }
   ],
   "source": [
    "# Checking again min and max number to verify there is no impossible value.\n",
    "df.describe()"
   ]
  },
  {
   "cell_type": "markdown",
   "metadata": {},
   "source": [
    "<strong>RESULT:</strong><br>\n",
    "Now, we have no longer negative value in our dataset."
   ]
  },
  {
   "cell_type": "code",
   "execution_count": null,
   "metadata": {},
   "outputs": [],
   "source": []
  },
  {
   "cell_type": "markdown",
   "metadata": {},
   "source": [
    "## Data Scaling\n",
    "The variables should be scaled because the ranges for some of the variables are very different.<br>\n",
    "For example, the range for avg transaction cost is from 8.81-18.32,while the range of values for the days of the year is from 88-202<br> \n",
    "The range for the second variable is 10 times the range of the first which could lead to issues when calculating the Euclidean distance between observations.<br><br>\n",
    "Now, we need to scaling the data with <strong>standardization</strong> method in Python to convert the values into <strong>z-scores</strong>, and store the normalized data in a new dataframe.<br><br>\n",
    "\n",
    "<b>NOTE:</b> When we do standardization with z-score, it is normal to see negative values."
   ]
  },
  {
   "cell_type": "code",
   "execution_count": 18,
   "metadata": {},
   "outputs": [
    {
     "name": "stdout",
     "output_type": "stream",
     "text": [
      "       avg_transaction_cost  mnths_operational  days_yr  avg_cost_item  \\\n",
      "count                247.00             247.00   247.00         247.00   \n",
      "mean                  -0.00              -0.00    -0.00           0.00   \n",
      "std                    1.00               1.00     1.00           1.00   \n",
      "min                   -3.95              -0.96    -3.21          -2.64   \n",
      "25%                   -0.69              -0.65    -0.65          -0.75   \n",
      "50%                    0.04              -0.27     0.01           0.04   \n",
      "75%                    0.64               0.24     0.69           0.66   \n",
      "max                    2.84               6.27     2.81           3.09   \n",
      "\n",
      "       number_trucks  dist_lobland  bev_percent  \n",
      "count         247.00        247.00       247.00  \n",
      "mean           -0.00          0.00        -0.00  \n",
      "std             1.00          1.00         1.00  \n",
      "min            -1.77         -1.01        -2.67  \n",
      "25%            -0.61         -0.69        -0.63  \n",
      "50%            -0.03         -0.26        -0.02  \n",
      "75%             0.55          0.31         0.59  \n",
      "max             3.46          4.22         3.08  \n"
     ]
    }
   ],
   "source": [
    "#standardization\n",
    "\n",
    "scaler = StandardScaler()\n",
    "scaler.fit(df)\n",
    "\n",
    "df_normalized = scaler.transform(df)\n",
    "df_normalized = pd.DataFrame(data = df_normalized, index = df.index, columns = df.columns)\n",
    "print(df_normalized.describe().round(2))\n"
   ]
  },
  {
   "cell_type": "code",
   "execution_count": null,
   "metadata": {},
   "outputs": [],
   "source": []
  },
  {
   "cell_type": "markdown",
   "metadata": {},
   "source": [
    "## K-Means Clustering\n",
    "To build a kmeans model, we do not need to use every single variables.<br>\n",
    "So, we need to select any subset variables to use for modeling.<br>\n",
    "Variables should be the most meaningful for creating clusters.<br><br>\n",
    "\n",
    "<b>TIP:</b> We need numerical variables for KMeans Clustering."
   ]
  },
  {
   "cell_type": "code",
   "execution_count": 19,
   "metadata": {},
   "outputs": [
    {
     "data": {
      "text/html": [
       "<div>\n",
       "<style scoped>\n",
       "    .dataframe tbody tr th:only-of-type {\n",
       "        vertical-align: middle;\n",
       "    }\n",
       "\n",
       "    .dataframe tbody tr th {\n",
       "        vertical-align: top;\n",
       "    }\n",
       "\n",
       "    .dataframe thead th {\n",
       "        text-align: right;\n",
       "    }\n",
       "</style>\n",
       "<table border=\"1\" class=\"dataframe\">\n",
       "  <thead>\n",
       "    <tr style=\"text-align: right;\">\n",
       "      <th></th>\n",
       "      <th>avg_transaction_cost</th>\n",
       "      <th>days_yr</th>\n",
       "      <th>avg_cost_item</th>\n",
       "      <th>number_trucks</th>\n",
       "    </tr>\n",
       "  </thead>\n",
       "  <tbody>\n",
       "    <tr>\n",
       "      <th>0</th>\n",
       "      <td>-1.389893</td>\n",
       "      <td>0.746770</td>\n",
       "      <td>1.091406</td>\n",
       "      <td>-0.610188</td>\n",
       "    </tr>\n",
       "    <tr>\n",
       "      <th>1</th>\n",
       "      <td>-1.604137</td>\n",
       "      <td>-0.468122</td>\n",
       "      <td>-0.854760</td>\n",
       "      <td>1.135561</td>\n",
       "    </tr>\n",
       "    <tr>\n",
       "      <th>2</th>\n",
       "      <td>-0.590051</td>\n",
       "      <td>-0.520943</td>\n",
       "      <td>-0.709252</td>\n",
       "      <td>1.135561</td>\n",
       "    </tr>\n",
       "    <tr>\n",
       "      <th>3</th>\n",
       "      <td>0.866804</td>\n",
       "      <td>-1.313264</td>\n",
       "      <td>-0.594059</td>\n",
       "      <td>-0.028271</td>\n",
       "    </tr>\n",
       "    <tr>\n",
       "      <th>4</th>\n",
       "      <td>0.524015</td>\n",
       "      <td>1.961662</td>\n",
       "      <td>0.897396</td>\n",
       "      <td>1.135561</td>\n",
       "    </tr>\n",
       "  </tbody>\n",
       "</table>\n",
       "</div>"
      ],
      "text/plain": [
       "   avg_transaction_cost   days_yr  avg_cost_item  number_trucks\n",
       "0             -1.389893  0.746770       1.091406      -0.610188\n",
       "1             -1.604137 -0.468122      -0.854760       1.135561\n",
       "2             -0.590051 -0.520943      -0.709252       1.135561\n",
       "3              0.866804 -1.313264      -0.594059      -0.028271\n",
       "4              0.524015  1.961662       0.897396       1.135561"
      ]
     },
     "execution_count": 19,
     "metadata": {},
     "output_type": "execute_result"
    }
   ],
   "source": [
    "df_normalized_subset = df_normalized[[\"avg_transaction_cost\", \"days_yr\", \"avg_cost_item\", \"number_trucks\"]]\n",
    "df_normalized_subset.head()"
   ]
  },
  {
   "cell_type": "code",
   "execution_count": null,
   "metadata": {},
   "outputs": [],
   "source": []
  },
  {
   "cell_type": "markdown",
   "metadata": {},
   "source": [
    "## Elbow Chart"
   ]
  },
  {
   "cell_type": "code",
   "execution_count": 20,
   "metadata": {
    "scrolled": true
   },
   "outputs": [
    {
     "data": {
      "image/png": "[encoded data removed]",
      "text/plain": [
       "<Figure size 640x480 with 1 Axes>"
      ]
     },
     "metadata": {},
     "output_type": "display_data"
    }
   ],
   "source": [
    "sse = {}\n",
    "for k in range(1,11):\n",
    "    kmeans = KMeans(n_clusters=k, n_init= 10, random_state=654)\n",
    "    kmeans.fit(df_normalized_subset)\n",
    "    sse[k] = kmeans.inertia_\n",
    "    \n",
    "plt.title('Elbow Chart')\n",
    "plt.xlabel('k')\n",
    "plt.ylabel('SSE')\n",
    "sns.pointplot(x = list(sse.keys()), y = list(sse.values()))\n",
    "plt.grid(True)"
   ]
  },
  {
   "cell_type": "markdown",
   "metadata": {},
   "source": [
    "<strong>RESULT:</strong>\n",
    "It looks like k=6 is the desire number.<br>\n",
    "However, we should try cluster 5,6 and 7 to figure out which one is the better one."
   ]
  },
  {
   "cell_type": "code",
   "execution_count": null,
   "metadata": {},
   "outputs": [],
   "source": []
  },
  {
   "cell_type": "markdown",
   "metadata": {},
   "source": [
    "<strong>First Try => n = 5</strong>"
   ]
  },
  {
   "cell_type": "code",
   "execution_count": 21,
   "metadata": {},
   "outputs": [],
   "source": [
    "kmeans_model_1 = KMeans(n_clusters=5, n_init=10, random_state=654)\n",
    "kmeans_model_1.fit(df_normalized_subset)\n",
    "\n",
    "labels = kmeans_model_1.predict(df_normalized_subset)"
   ]
  },
  {
   "cell_type": "code",
   "execution_count": 22,
   "metadata": {},
   "outputs": [
    {
     "data": {
      "text/html": [
       "<div>\n",
       "<style scoped>\n",
       "    .dataframe tbody tr th:only-of-type {\n",
       "        vertical-align: middle;\n",
       "    }\n",
       "\n",
       "    .dataframe tbody tr th {\n",
       "        vertical-align: top;\n",
       "    }\n",
       "\n",
       "    .dataframe thead th {\n",
       "        text-align: right;\n",
       "    }\n",
       "</style>\n",
       "<table border=\"1\" class=\"dataframe\">\n",
       "  <thead>\n",
       "    <tr style=\"text-align: right;\">\n",
       "      <th></th>\n",
       "      <th>avg_transaction_cost</th>\n",
       "      <th>days_yr</th>\n",
       "      <th>avg_cost_item</th>\n",
       "      <th>number_trucks</th>\n",
       "    </tr>\n",
       "    <tr>\n",
       "      <th>Cluster</th>\n",
       "      <th></th>\n",
       "      <th></th>\n",
       "      <th></th>\n",
       "      <th></th>\n",
       "    </tr>\n",
       "  </thead>\n",
       "  <tbody>\n",
       "    <tr>\n",
       "      <th>0</th>\n",
       "      <td>13.22</td>\n",
       "      <td>129.50</td>\n",
       "      <td>4.89</td>\n",
       "      <td>1.83</td>\n",
       "    </tr>\n",
       "    <tr>\n",
       "      <th>1</th>\n",
       "      <td>14.12</td>\n",
       "      <td>139.58</td>\n",
       "      <td>4.30</td>\n",
       "      <td>5.19</td>\n",
       "    </tr>\n",
       "    <tr>\n",
       "      <th>2</th>\n",
       "      <td>13.97</td>\n",
       "      <td>170.48</td>\n",
       "      <td>4.53</td>\n",
       "      <td>2.12</td>\n",
       "    </tr>\n",
       "    <tr>\n",
       "      <th>3</th>\n",
       "      <td>14.33</td>\n",
       "      <td>155.57</td>\n",
       "      <td>7.40</td>\n",
       "      <td>3.25</td>\n",
       "    </tr>\n",
       "    <tr>\n",
       "      <th>4</th>\n",
       "      <td>15.86</td>\n",
       "      <td>148.82</td>\n",
       "      <td>4.39</td>\n",
       "      <td>2.73</td>\n",
       "    </tr>\n",
       "  </tbody>\n",
       "</table>\n",
       "</div>"
      ],
      "text/plain": [
       "         avg_transaction_cost  days_yr  avg_cost_item  number_trucks\n",
       "Cluster                                                             \n",
       "0                       13.22   129.50           4.89           1.83\n",
       "1                       14.12   139.58           4.30           5.19\n",
       "2                       13.97   170.48           4.53           2.12\n",
       "3                       14.33   155.57           7.40           3.25\n",
       "4                       15.86   148.82           4.39           2.73"
      ]
     },
     "execution_count": 22,
     "metadata": {},
     "output_type": "execute_result"
    }
   ],
   "source": [
    "model_1_info = df.assign(Cluster = labels)\n",
    "\n",
    "grouped1 = model_1_info.groupby(['Cluster'])\n",
    "grouped1.agg({\n",
    "    'avg_transaction_cost' : 'mean',\n",
    "    'days_yr' : 'mean',\n",
    "    'avg_cost_item' : 'mean',\n",
    "    'number_trucks' : 'mean'\n",
    "}).round(2)"
   ]
  },
  {
   "cell_type": "markdown",
   "metadata": {},
   "source": [
    "<strong>n = 5 Result:</strong><br>\n",
    "Cluster 4 avg_transaction_cost is higher."
   ]
  },
  {
   "cell_type": "code",
   "execution_count": null,
   "metadata": {},
   "outputs": [],
   "source": []
  },
  {
   "cell_type": "markdown",
   "metadata": {},
   "source": [
    "<strong>Second Try => n = 6</strong>"
   ]
  },
  {
   "cell_type": "code",
   "execution_count": 23,
   "metadata": {},
   "outputs": [],
   "source": [
    "kmeans_model_2 = KMeans(n_clusters=6, n_init=10, random_state=654)\n",
    "kmeans_model_2.fit(df_normalized_subset)\n",
    "\n",
    "labels = kmeans_model_2.predict(df_normalized_subset)"
   ]
  },
  {
   "cell_type": "code",
   "execution_count": 24,
   "metadata": {},
   "outputs": [
    {
     "data": {
      "text/html": [
       "<div>\n",
       "<style scoped>\n",
       "    .dataframe tbody tr th:only-of-type {\n",
       "        vertical-align: middle;\n",
       "    }\n",
       "\n",
       "    .dataframe tbody tr th {\n",
       "        vertical-align: top;\n",
       "    }\n",
       "\n",
       "    .dataframe thead th {\n",
       "        text-align: right;\n",
       "    }\n",
       "</style>\n",
       "<table border=\"1\" class=\"dataframe\">\n",
       "  <thead>\n",
       "    <tr style=\"text-align: right;\">\n",
       "      <th></th>\n",
       "      <th>avg_transaction_cost</th>\n",
       "      <th>days_yr</th>\n",
       "      <th>avg_cost_item</th>\n",
       "      <th>number_trucks</th>\n",
       "    </tr>\n",
       "    <tr>\n",
       "      <th>Cluster</th>\n",
       "      <th></th>\n",
       "      <th></th>\n",
       "      <th></th>\n",
       "      <th></th>\n",
       "    </tr>\n",
       "  </thead>\n",
       "  <tbody>\n",
       "    <tr>\n",
       "      <th>0</th>\n",
       "      <td>14.21</td>\n",
       "      <td>157.82</td>\n",
       "      <td>7.23</td>\n",
       "      <td>4.29</td>\n",
       "    </tr>\n",
       "    <tr>\n",
       "      <th>1</th>\n",
       "      <td>15.92</td>\n",
       "      <td>153.33</td>\n",
       "      <td>4.42</td>\n",
       "      <td>2.81</td>\n",
       "    </tr>\n",
       "    <tr>\n",
       "      <th>2</th>\n",
       "      <td>14.14</td>\n",
       "      <td>161.07</td>\n",
       "      <td>6.07</td>\n",
       "      <td>1.37</td>\n",
       "    </tr>\n",
       "    <tr>\n",
       "      <th>3</th>\n",
       "      <td>13.31</td>\n",
       "      <td>155.85</td>\n",
       "      <td>3.12</td>\n",
       "      <td>2.47</td>\n",
       "    </tr>\n",
       "    <tr>\n",
       "      <th>4</th>\n",
       "      <td>14.29</td>\n",
       "      <td>139.64</td>\n",
       "      <td>4.03</td>\n",
       "      <td>5.31</td>\n",
       "    </tr>\n",
       "    <tr>\n",
       "      <th>5</th>\n",
       "      <td>13.45</td>\n",
       "      <td>122.97</td>\n",
       "      <td>5.50</td>\n",
       "      <td>2.30</td>\n",
       "    </tr>\n",
       "  </tbody>\n",
       "</table>\n",
       "</div>"
      ],
      "text/plain": [
       "         avg_transaction_cost  days_yr  avg_cost_item  number_trucks\n",
       "Cluster                                                             \n",
       "0                       14.21   157.82           7.23           4.29\n",
       "1                       15.92   153.33           4.42           2.81\n",
       "2                       14.14   161.07           6.07           1.37\n",
       "3                       13.31   155.85           3.12           2.47\n",
       "4                       14.29   139.64           4.03           5.31\n",
       "5                       13.45   122.97           5.50           2.30"
      ]
     },
     "execution_count": 24,
     "metadata": {},
     "output_type": "execute_result"
    }
   ],
   "source": [
    "model_2_info = df.assign(Cluster = labels)\n",
    "\n",
    "grouped2 = model_2_info.groupby(['Cluster'])\n",
    "grouped2.agg({\n",
    "    'avg_transaction_cost' : 'mean',\n",
    "    'days_yr' : 'mean',\n",
    "    'avg_cost_item' : 'mean',\n",
    "    'number_trucks' : 'mean'\n",
    "}).round(2)"
   ]
  },
  {
   "cell_type": "markdown",
   "metadata": {},
   "source": [
    "<strong>n = 6 Result:</strong><br>\n",
    "Cluster 1 avg_transaction_cost is higher. <br>\n",
    "Cluster 4 and 0 are closer each other for avg_transaction_cost.<br>\n",
    "\n",
    "Cluster 2 days_yr is higher.<br>\n",
    "Cluster 0 and 3 are closer each other for days_yr.<br>\n",
    "\n",
    "Cluster 0 avg_cost_item is higher.<br>\n",
    "Cluster 2 is closer to Cluster 0 for avg_cost_item.<br>\n",
    "\n",
    "Cluster 4 is number_trucks higher.<br>\n",
    "Cluster 0 is closer to Cluster 4 for number_trucks.<br>"
   ]
  },
  {
   "cell_type": "markdown",
   "metadata": {},
   "source": [
    "<strong>Third Try => n=7</strong>"
   ]
  },
  {
   "cell_type": "code",
   "execution_count": 25,
   "metadata": {},
   "outputs": [],
   "source": [
    "kmeans_model_3 = KMeans(n_clusters=7, n_init=10, random_state=654)\n",
    "kmeans_model_3.fit(df_normalized_subset)\n",
    "\n",
    "labels = kmeans_model_3.predict(df_normalized_subset)"
   ]
  },
  {
   "cell_type": "code",
   "execution_count": 26,
   "metadata": {},
   "outputs": [
    {
     "data": {
      "text/html": [
       "<div>\n",
       "<style scoped>\n",
       "    .dataframe tbody tr th:only-of-type {\n",
       "        vertical-align: middle;\n",
       "    }\n",
       "\n",
       "    .dataframe tbody tr th {\n",
       "        vertical-align: top;\n",
       "    }\n",
       "\n",
       "    .dataframe thead th {\n",
       "        text-align: right;\n",
       "    }\n",
       "</style>\n",
       "<table border=\"1\" class=\"dataframe\">\n",
       "  <thead>\n",
       "    <tr style=\"text-align: right;\">\n",
       "      <th></th>\n",
       "      <th>avg_transaction_cost</th>\n",
       "      <th>days_yr</th>\n",
       "      <th>avg_cost_item</th>\n",
       "      <th>number_trucks</th>\n",
       "    </tr>\n",
       "    <tr>\n",
       "      <th>Cluster</th>\n",
       "      <th></th>\n",
       "      <th></th>\n",
       "      <th></th>\n",
       "      <th></th>\n",
       "    </tr>\n",
       "  </thead>\n",
       "  <tbody>\n",
       "    <tr>\n",
       "      <th>0</th>\n",
       "      <td>12.41</td>\n",
       "      <td>146.42</td>\n",
       "      <td>6.03</td>\n",
       "      <td>3.27</td>\n",
       "    </tr>\n",
       "    <tr>\n",
       "      <th>1</th>\n",
       "      <td>14.33</td>\n",
       "      <td>161.47</td>\n",
       "      <td>6.01</td>\n",
       "      <td>1.11</td>\n",
       "    </tr>\n",
       "    <tr>\n",
       "      <th>2</th>\n",
       "      <td>14.11</td>\n",
       "      <td>137.45</td>\n",
       "      <td>3.68</td>\n",
       "      <td>5.52</td>\n",
       "    </tr>\n",
       "    <tr>\n",
       "      <th>3</th>\n",
       "      <td>14.77</td>\n",
       "      <td>157.79</td>\n",
       "      <td>7.26</td>\n",
       "      <td>4.36</td>\n",
       "    </tr>\n",
       "    <tr>\n",
       "      <th>4</th>\n",
       "      <td>14.67</td>\n",
       "      <td>124.68</td>\n",
       "      <td>5.16</td>\n",
       "      <td>2.38</td>\n",
       "    </tr>\n",
       "    <tr>\n",
       "      <th>5</th>\n",
       "      <td>15.81</td>\n",
       "      <td>160.00</td>\n",
       "      <td>4.29</td>\n",
       "      <td>3.15</td>\n",
       "    </tr>\n",
       "    <tr>\n",
       "      <th>6</th>\n",
       "      <td>13.59</td>\n",
       "      <td>155.00</td>\n",
       "      <td>2.93</td>\n",
       "      <td>2.00</td>\n",
       "    </tr>\n",
       "  </tbody>\n",
       "</table>\n",
       "</div>"
      ],
      "text/plain": [
       "         avg_transaction_cost  days_yr  avg_cost_item  number_trucks\n",
       "Cluster                                                             \n",
       "0                       12.41   146.42           6.03           3.27\n",
       "1                       14.33   161.47           6.01           1.11\n",
       "2                       14.11   137.45           3.68           5.52\n",
       "3                       14.77   157.79           7.26           4.36\n",
       "4                       14.67   124.68           5.16           2.38\n",
       "5                       15.81   160.00           4.29           3.15\n",
       "6                       13.59   155.00           2.93           2.00"
      ]
     },
     "execution_count": 26,
     "metadata": {},
     "output_type": "execute_result"
    }
   ],
   "source": [
    "model_3_info = df.assign(Cluster = labels)\n",
    "\n",
    "grouped3 = model_3_info.groupby(['Cluster'])\n",
    "grouped3.agg({\n",
    "    'avg_transaction_cost' : 'mean',\n",
    "    'days_yr' : 'mean',\n",
    "    'avg_cost_item' : 'mean',\n",
    "    'number_trucks' : 'mean'\n",
    "}).round(2)"
   ]
  },
  {
   "cell_type": "markdown",
   "metadata": {},
   "source": [
    "<strong>n = 7 Result:</strong><br>\n",
    "Cluster 5 is higher for avg_transaction_cost.<br>\n",
    "Cluster 3, 4, 1,2 are closer each other for avg_transaction_cost.<br>\n",
    "\n",
    "Cluster 1 is higher for days_yr.<br>\n",
    "Cluster 5 is closer to Cluster 1 for days_yr.<br>\n",
    "\n",
    "Cluster 3 is higher on avg_cost_item.<br>\n",
    "Cluster 0 and 1 are closer each other for avg_cost_item.<br>\n",
    "\n",
    "Cluster 2 is higher for number_trucks.<br>\n",
    "Cluster 3 is closer to Cluster 2 for number_trucks.<br>"
   ]
  },
  {
   "cell_type": "code",
   "execution_count": null,
   "metadata": {},
   "outputs": [],
   "source": []
  },
  {
   "cell_type": "markdown",
   "metadata": {},
   "source": [
    "### Deciding the Optimal Number\n",
    "Based on the elbow plot, it appears that the optimal number of clusters is 6 clusters.<br>\n",
    "This is the point when the decreasing amount shifts from a higher decrease to a lower decrease. \n"
   ]
  },
  {
   "cell_type": "code",
   "execution_count": 27,
   "metadata": {},
   "outputs": [],
   "source": [
    "kmeans_model = KMeans(n_clusters=6, n_init=10, random_state=654)\n",
    "kmeans_model.fit(df_normalized_subset)\n",
    "\n",
    "labels = kmeans_model.predict(df_normalized_subset)"
   ]
  },
  {
   "cell_type": "code",
   "execution_count": 28,
   "metadata": {},
   "outputs": [
    {
     "data": {
      "text/plain": [
       "array([2, 4, 4, 1, 0, 1, 0, 1, 2, 0, 1, 1, 2, 0, 1, 3, 0, 1, 3, 4, 4, 2,\n",
       "       1, 1, 5, 5, 1, 2, 4, 3, 4, 3, 1, 4, 0, 4, 5, 1, 4, 0, 0, 4, 3, 5,\n",
       "       5, 0, 2, 3, 4, 2, 1, 2, 0, 4, 4, 2, 2, 1, 1, 3, 2, 5, 2, 3, 1, 5,\n",
       "       1, 4, 4, 5, 1, 3, 0, 5, 0, 3, 3, 0, 5, 4, 5, 4, 5, 2, 1, 2, 3, 4,\n",
       "       1, 1, 1, 4, 5, 3, 0, 1, 3, 3, 0, 3, 3, 4, 3, 2, 4, 2, 5, 3, 2, 4,\n",
       "       1, 4, 0, 1, 2, 4, 4, 2, 3, 0, 1, 0, 2, 0, 1, 4, 0, 0, 2, 2, 0, 3,\n",
       "       2, 1, 2, 0, 5, 5, 3, 2, 1, 4, 3, 1, 4, 2, 3, 1, 4, 0, 2, 1, 5, 1,\n",
       "       2, 3, 2, 5, 5, 4, 1, 2, 2, 5, 5, 1, 2, 1, 2, 0, 2, 2, 5, 4, 4, 1,\n",
       "       5, 3, 3, 4, 5, 2, 3, 1, 4, 1, 1, 5, 1, 5, 2, 1, 1, 0, 4, 1, 5, 1,\n",
       "       5, 0, 3, 2, 0, 1, 4, 0, 3, 3, 2, 0, 5, 2, 1, 3, 5, 4, 1, 5, 5, 5,\n",
       "       2, 5, 2, 4, 2, 2, 4, 1, 2, 0, 1, 5, 3, 0, 1, 1, 4, 5, 3, 5, 4, 2,\n",
       "       0, 0, 1, 1, 4], dtype=int32)"
      ]
     },
     "execution_count": 28,
     "metadata": {},
     "output_type": "execute_result"
    }
   ],
   "source": [
    "labels"
   ]
  },
  {
   "cell_type": "markdown",
   "metadata": {},
   "source": [
    "## Summary Statistics "
   ]
  },
  {
   "cell_type": "code",
   "execution_count": 29,
   "metadata": {
    "scrolled": true
   },
   "outputs": [
    {
     "data": {
      "text/html": [
       "<div>\n",
       "<style scoped>\n",
       "    .dataframe tbody tr th:only-of-type {\n",
       "        vertical-align: middle;\n",
       "    }\n",
       "\n",
       "    .dataframe tbody tr th {\n",
       "        vertical-align: top;\n",
       "    }\n",
       "\n",
       "    .dataframe thead th {\n",
       "        text-align: right;\n",
       "    }\n",
       "</style>\n",
       "<table border=\"1\" class=\"dataframe\">\n",
       "  <thead>\n",
       "    <tr style=\"text-align: right;\">\n",
       "      <th></th>\n",
       "      <th>avg_transaction_cost</th>\n",
       "      <th>mnths_operational</th>\n",
       "      <th>days_yr</th>\n",
       "      <th>avg_cost_item</th>\n",
       "      <th>number_trucks</th>\n",
       "      <th>dist_lobland</th>\n",
       "      <th>bev_percent</th>\n",
       "    </tr>\n",
       "  </thead>\n",
       "  <tbody>\n",
       "    <tr>\n",
       "      <th>0</th>\n",
       "      <td>12.40</td>\n",
       "      <td>3.0</td>\n",
       "      <td>163</td>\n",
       "      <td>6.83</td>\n",
       "      <td>2</td>\n",
       "      <td>0.12</td>\n",
       "      <td>30.0</td>\n",
       "    </tr>\n",
       "    <tr>\n",
       "      <th>1</th>\n",
       "      <td>12.10</td>\n",
       "      <td>1.8</td>\n",
       "      <td>140</td>\n",
       "      <td>3.62</td>\n",
       "      <td>5</td>\n",
       "      <td>269.24</td>\n",
       "      <td>40.5</td>\n",
       "    </tr>\n",
       "    <tr>\n",
       "      <th>2</th>\n",
       "      <td>13.52</td>\n",
       "      <td>6.0</td>\n",
       "      <td>139</td>\n",
       "      <td>3.86</td>\n",
       "      <td>5</td>\n",
       "      <td>8.17</td>\n",
       "      <td>35.7</td>\n",
       "    </tr>\n",
       "    <tr>\n",
       "      <th>3</th>\n",
       "      <td>15.56</td>\n",
       "      <td>4.0</td>\n",
       "      <td>124</td>\n",
       "      <td>4.05</td>\n",
       "      <td>3</td>\n",
       "      <td>99.09</td>\n",
       "      <td>32.8</td>\n",
       "    </tr>\n",
       "    <tr>\n",
       "      <th>4</th>\n",
       "      <td>15.08</td>\n",
       "      <td>8.5</td>\n",
       "      <td>186</td>\n",
       "      <td>6.51</td>\n",
       "      <td>5</td>\n",
       "      <td>33.42</td>\n",
       "      <td>35.6</td>\n",
       "    </tr>\n",
       "    <tr>\n",
       "      <th>...</th>\n",
       "      <td>...</td>\n",
       "      <td>...</td>\n",
       "      <td>...</td>\n",
       "      <td>...</td>\n",
       "      <td>...</td>\n",
       "      <td>...</td>\n",
       "      <td>...</td>\n",
       "    </tr>\n",
       "    <tr>\n",
       "      <th>243</th>\n",
       "      <td>14.70</td>\n",
       "      <td>2.5</td>\n",
       "      <td>153</td>\n",
       "      <td>10.13</td>\n",
       "      <td>3</td>\n",
       "      <td>127.16</td>\n",
       "      <td>40.2</td>\n",
       "    </tr>\n",
       "    <tr>\n",
       "      <th>244</th>\n",
       "      <td>14.75</td>\n",
       "      <td>1.1</td>\n",
       "      <td>170</td>\n",
       "      <td>7.88</td>\n",
       "      <td>4</td>\n",
       "      <td>36.29</td>\n",
       "      <td>41.6</td>\n",
       "    </tr>\n",
       "    <tr>\n",
       "      <th>245</th>\n",
       "      <td>15.89</td>\n",
       "      <td>0.7</td>\n",
       "      <td>162</td>\n",
       "      <td>3.22</td>\n",
       "      <td>4</td>\n",
       "      <td>44.35</td>\n",
       "      <td>37.8</td>\n",
       "    </tr>\n",
       "    <tr>\n",
       "      <th>246</th>\n",
       "      <td>16.17</td>\n",
       "      <td>1.2</td>\n",
       "      <td>153</td>\n",
       "      <td>4.62</td>\n",
       "      <td>4</td>\n",
       "      <td>91.98</td>\n",
       "      <td>41.1</td>\n",
       "    </tr>\n",
       "    <tr>\n",
       "      <th>247</th>\n",
       "      <td>14.10</td>\n",
       "      <td>2.8</td>\n",
       "      <td>148</td>\n",
       "      <td>3.26</td>\n",
       "      <td>6</td>\n",
       "      <td>30.15</td>\n",
       "      <td>34.8</td>\n",
       "    </tr>\n",
       "  </tbody>\n",
       "</table>\n",
       "<p>247 rows × 7 columns</p>\n",
       "</div>"
      ],
      "text/plain": [
       "     avg_transaction_cost  mnths_operational  days_yr  avg_cost_item  \\\n",
       "0                   12.40                3.0      163           6.83   \n",
       "1                   12.10                1.8      140           3.62   \n",
       "2                   13.52                6.0      139           3.86   \n",
       "3                   15.56                4.0      124           4.05   \n",
       "4                   15.08                8.5      186           6.51   \n",
       "..                    ...                ...      ...            ...   \n",
       "243                 14.70                2.5      153          10.13   \n",
       "244                 14.75                1.1      170           7.88   \n",
       "245                 15.89                0.7      162           3.22   \n",
       "246                 16.17                1.2      153           4.62   \n",
       "247                 14.10                2.8      148           3.26   \n",
       "\n",
       "     number_trucks  dist_lobland  bev_percent  \n",
       "0                2          0.12         30.0  \n",
       "1                5        269.24         40.5  \n",
       "2                5          8.17         35.7  \n",
       "3                3         99.09         32.8  \n",
       "4                5         33.42         35.6  \n",
       "..             ...           ...          ...  \n",
       "243              3        127.16         40.2  \n",
       "244              4         36.29         41.6  \n",
       "245              4         44.35         37.8  \n",
       "246              4         91.98         41.1  \n",
       "247              6         30.15         34.8  \n",
       "\n",
       "[247 rows x 7 columns]"
      ]
     },
     "execution_count": 29,
     "metadata": {},
     "output_type": "execute_result"
    }
   ],
   "source": [
    "df_subset = df.loc[df_normalized_subset.index].copy()\n",
    "df_subset"
   ]
  },
  {
   "cell_type": "markdown",
   "metadata": {},
   "source": [
    "<strong>What happens here?</strong>\n",
    "\n",
    "<b>df_subset</b> is created by selecting rows from the original dataset (df) that correspond to the rows in the normalized dataset (df_normalized_subset).<br>\n",
    "This ensures that the <b>clustering results (stored in labels)</b> can be linked back to the original, unnormalized data.\n",
    "\n",
    "<b>NOTE:</b><br>\n",
    "The clustering was done on the normalized data (df_normalized_subset), but the normalized data often lacks the original context (e.g., original feature values).<br> To interpret the clusters meaningfully, you need to map the cluster assignments (labels) back to the original data (df).\n",
    "\n",
    "<b>NOTE</b><br>\n",
    "By default, when we use <b>.loc[]</b> or similar pandas methods to select a subset of a DataFrame, it returns a <b>view of the original DataFrame</b>, not a completely independent copy.<br>\n",
    "A <b>\"view\"</b> means that changes made to the subset (e.g., df_subset) could potentially affect the original DataFrame (df).<br>\n",
    "This behavior can lead to unintended side effects and warnings.<br>\n",
    "Using <b>.copy()</b> ensures that the new DataFrame (df_subset) is a completely independent object and does not share memory with the original DataFrame (df).<br>\n",
    "Any modifications to df_subset will not affect df.\n",
    "\n"
   ]
  },
  {
   "cell_type": "code",
   "execution_count": null,
   "metadata": {},
   "outputs": [],
   "source": []
  },
  {
   "cell_type": "code",
   "execution_count": 30,
   "metadata": {},
   "outputs": [
    {
     "data": {
      "text/html": [
       "<div>\n",
       "<style scoped>\n",
       "    .dataframe tbody tr th:only-of-type {\n",
       "        vertical-align: middle;\n",
       "    }\n",
       "\n",
       "    .dataframe tbody tr th {\n",
       "        vertical-align: top;\n",
       "    }\n",
       "\n",
       "    .dataframe thead th {\n",
       "        text-align: right;\n",
       "    }\n",
       "</style>\n",
       "<table border=\"1\" class=\"dataframe\">\n",
       "  <thead>\n",
       "    <tr style=\"text-align: right;\">\n",
       "      <th></th>\n",
       "      <th>avg_transaction_cost</th>\n",
       "      <th>mnths_operational</th>\n",
       "      <th>days_yr</th>\n",
       "      <th>avg_cost_item</th>\n",
       "      <th>number_trucks</th>\n",
       "      <th>dist_lobland</th>\n",
       "      <th>bev_percent</th>\n",
       "    </tr>\n",
       "    <tr>\n",
       "      <th>Cluster</th>\n",
       "      <th></th>\n",
       "      <th></th>\n",
       "      <th></th>\n",
       "      <th></th>\n",
       "      <th></th>\n",
       "      <th></th>\n",
       "      <th></th>\n",
       "    </tr>\n",
       "  </thead>\n",
       "  <tbody>\n",
       "    <tr>\n",
       "      <th>0</th>\n",
       "      <td>14.21</td>\n",
       "      <td>2.58</td>\n",
       "      <td>157.82</td>\n",
       "      <td>7.23</td>\n",
       "      <td>4.29</td>\n",
       "      <td>49.05</td>\n",
       "      <td>40.67</td>\n",
       "    </tr>\n",
       "    <tr>\n",
       "      <th>1</th>\n",
       "      <td>15.92</td>\n",
       "      <td>3.41</td>\n",
       "      <td>153.33</td>\n",
       "      <td>4.42</td>\n",
       "      <td>2.81</td>\n",
       "      <td>57.52</td>\n",
       "      <td>40.60</td>\n",
       "    </tr>\n",
       "    <tr>\n",
       "      <th>2</th>\n",
       "      <td>14.14</td>\n",
       "      <td>3.93</td>\n",
       "      <td>161.07</td>\n",
       "      <td>6.07</td>\n",
       "      <td>1.37</td>\n",
       "      <td>44.08</td>\n",
       "      <td>41.51</td>\n",
       "    </tr>\n",
       "    <tr>\n",
       "      <th>3</th>\n",
       "      <td>13.31</td>\n",
       "      <td>5.26</td>\n",
       "      <td>155.85</td>\n",
       "      <td>3.12</td>\n",
       "      <td>2.47</td>\n",
       "      <td>53.87</td>\n",
       "      <td>39.95</td>\n",
       "    </tr>\n",
       "    <tr>\n",
       "      <th>4</th>\n",
       "      <td>14.29</td>\n",
       "      <td>3.33</td>\n",
       "      <td>139.64</td>\n",
       "      <td>4.03</td>\n",
       "      <td>5.31</td>\n",
       "      <td>51.03</td>\n",
       "      <td>40.57</td>\n",
       "    </tr>\n",
       "    <tr>\n",
       "      <th>5</th>\n",
       "      <td>13.45</td>\n",
       "      <td>3.27</td>\n",
       "      <td>122.97</td>\n",
       "      <td>5.50</td>\n",
       "      <td>2.30</td>\n",
       "      <td>60.13</td>\n",
       "      <td>41.49</td>\n",
       "    </tr>\n",
       "  </tbody>\n",
       "</table>\n",
       "</div>"
      ],
      "text/plain": [
       "         avg_transaction_cost  mnths_operational  days_yr  avg_cost_item  \\\n",
       "Cluster                                                                    \n",
       "0                       14.21               2.58   157.82           7.23   \n",
       "1                       15.92               3.41   153.33           4.42   \n",
       "2                       14.14               3.93   161.07           6.07   \n",
       "3                       13.31               5.26   155.85           3.12   \n",
       "4                       14.29               3.33   139.64           4.03   \n",
       "5                       13.45               3.27   122.97           5.50   \n",
       "\n",
       "         number_trucks  dist_lobland  bev_percent  \n",
       "Cluster                                            \n",
       "0                 4.29         49.05        40.67  \n",
       "1                 2.81         57.52        40.60  \n",
       "2                 1.37         44.08        41.51  \n",
       "3                 2.47         53.87        39.95  \n",
       "4                 5.31         51.03        40.57  \n",
       "5                 2.30         60.13        41.49  "
      ]
     },
     "execution_count": 30,
     "metadata": {},
     "output_type": "execute_result"
    }
   ],
   "source": [
    "model_info = df_subset.assign(Cluster=labels)\n",
    "\n",
    "grouped = model_info.groupby(['Cluster'])\n",
    "grouped_summary = grouped.agg({\n",
    "    'avg_transaction_cost' : 'mean',\n",
    "    'mnths_operational' : 'mean',\n",
    "    'days_yr' : 'mean',\n",
    "    'avg_cost_item' : 'mean',\n",
    "    'number_trucks' : 'mean',\n",
    "    'dist_lobland' : 'mean',\n",
    "    'bev_percent' : 'mean'\n",
    "}).round(2)\n",
    "\n",
    "grouped_summary"
   ]
  },
  {
   "cell_type": "markdown",
   "metadata": {},
   "source": [
    "## Visualization:\n",
    "The plots show a boxplot for the average transaction cost, the days of operation, the average cost per item, and the number of trucks.<br>\n",
    "<b>NOTE:</b> Charts show original variables from the dataset\n",
    "\n",
    "<br><br>\n",
    "From the boxplot showing the average transaction cost, we see that cluster 1 has the highest average transaction cost, while cluster 3 seems to have the lowest.<br>\n",
    "According to the boxplot for the days of operation, cluster 5 has the lowest number of days, while the others seem to be roughly similar.<br>\n",
    "For the average cost per item plot, cluster 0 has the highest and cluster 3 has the lowest.<br> \n",
    "For the number of trucks by cluster, cluster 2 seems to be the lowest while cluster 4 has the highest value.<br><br>\n",
    "- Overall there seems to be quite a large variety in the values that come from each cluster.<br>\n",
    "- That's why more charts were created to get to know the clusters well.\n",
    "\n"
   ]
  },
  {
   "cell_type": "markdown",
   "metadata": {},
   "source": [
    "<strong>Plot 1: Boxplots of each of the 4 variables split by cluster</strong>"
   ]
  },
  {
   "cell_type": "code",
   "execution_count": 31,
   "metadata": {},
   "outputs": [
    {
     "data": {
      "image/png": "[encoded data removed]",
      "text/plain": [
       "<Figure size 1500x1000 with 4 Axes>"
      ]
     },
     "metadata": {},
     "output_type": "display_data"
    }
   ],
   "source": [
    "# Select only the relevant columns for visualization from the original dataframe\n",
    "df_visualization = df[['avg_transaction_cost', 'days_yr', 'avg_cost_item', 'number_trucks']].copy()\n",
    "\n",
    "# Add the cluster labels to the DataFrame for visualization\n",
    "df_visualization['cluster'] = labels  # 'labels' comes from the kmeans_model.predict() result\n",
    "\n",
    "# Set up the matplotlib figure with subplots\n",
    "fig, axs = plt.subplots(nrows=2, ncols=2, figsize=(15, 10))  \n",
    "\n",
    "# Define titles and labels for each subplot\n",
    "titles = ['Average Transaction Cost by Cluster', 'Days of Operation by Cluster',\n",
    "          'Average Cost per Item by Cluster', 'Number of Trucks by Cluster']\n",
    "\n",
    "y_labels = ['Avg Transaction Cost', 'Days of Operation',\n",
    "            'Avg Cost per Item', 'Number of Trucks']\n",
    "\n",
    "# Iterate over each subplot and create boxplots\n",
    "for i, ax in enumerate(axs.flat):\n",
    "    # Ensure the column name is correct and exists in df_visualization\n",
    "    sns.boxplot(x='cluster', y=df_visualization.columns[i], data=df_visualization, ax=ax)\n",
    "    ax.set_title(titles[i])\n",
    "    ax.set_xlabel('Cluster')\n",
    "    ax.set_ylabel(y_labels[i])\n",
    "    \n",
    "\n",
    "# Adjust layout for better display and avoid label overlap\n",
    "plt.tight_layout()\n",
    "plt.show()"
   ]
  },
  {
   "cell_type": "markdown",
   "metadata": {},
   "source": [
    "<strong>Plot 2: Scatterplots of pairs of variables</strong>"
   ]
  },
  {
   "cell_type": "code",
   "execution_count": 32,
   "metadata": {
    "scrolled": true
   },
   "outputs": [
    {
     "data": {
      "image/png": "[encoded data removed]",
      "text/plain": [
       "<Figure size 1000x800 with 1 Axes>"
      ]
     },
     "metadata": {},
     "output_type": "display_data"
    }
   ],
   "source": [
    "df_subset['cluster'] = labels  # labels from kmeans_model.predict()\n",
    "\n",
    "# Create a scatter plot with different markers for each cluster\n",
    "plt.figure(figsize=(10, 8))  # Adjust the size as needed\n",
    "\n",
    "# Define a dictionary of markers to use for each cluster\n",
    "markers = {i: marker for i, marker in enumerate(['o', 's', '^', 'D', 'x', '+'])}\n",
    "\n",
    "# Plot each cluster with a unique marker using list comprehensions\n",
    "for cluster in sorted(df_subset['cluster'].unique()):\n",
    "    cluster_data = df_subset[df_subset['cluster'] == cluster]\n",
    "    plt.scatter(cluster_data.iloc[:, 0], cluster_data.iloc[:, 2],\n",
    "                label=f'Cluster {cluster}', marker=markers[cluster % len(markers)])\n",
    "\n",
    "# Title and labels\n",
    "plt.title('Scatterplot of Average Cost Item by Average Transaction Cost')\n",
    "plt.xlabel('Average Transaction Cost')  # Assuming first column is 'Average Transaction Cost'\n",
    "plt.ylabel('Average Cost Item')  # Assuming third column is 'Average Cost Item'\n",
    "\n",
    "# Legend\n",
    "plt.legend()\n",
    "\n",
    "# Show the plot\n",
    "plt.show()"
   ]
  },
  {
   "cell_type": "markdown",
   "metadata": {},
   "source": [
    "<strong>RESULT:</strong><br>\n",
    "This scatterplot is a plot of each observation of Average Cost per Item versus Average Transaction Cost,\n",
    "where each point is denoted by a symbol that is specific to one of the 6 clusters.<br>\n",
    "\n",
    "This plot gives us an idea of the relationship between these two variables when cluster assignment is taken into account.<br>\n",
    "\n",
    "Cluster 1 primarily in the upper right hand region.<br>\n",
    "This indicates that both the Average Cost per Item and Average Transaction Cost are higher than average.<br> \n",
    "\n",
    "In contrast, Cluster 4 is mostly in the middle of all the points which indicates that this cluster has average values for both Average Transaction Cost and Average price per item.<br> \n",
    "\n",
    "Cluster 5 towards the bottom, but centered  left to right.<br>\n",
    "Thus this cluster has lower than average values for the Average Cost per Item, but about average values for the average transaction cost.<br>\n"
   ]
  },
  {
   "cell_type": "markdown",
   "metadata": {},
   "source": [
    "<strong>Density plot split by cluster</strong>"
   ]
  },
  {
   "cell_type": "code",
   "execution_count": 33,
   "metadata": {},
   "outputs": [
    {
     "data": {
      "image/png": "[encoded data removed]",
      "text/plain": [
       "<Figure size 1000x600 with 1 Axes>"
      ]
     },
     "metadata": {},
     "output_type": "display_data"
    }
   ],
   "source": [
    "df_subset['cluster'] = labels\n",
    "\n",
    "# Convert the cluster column to a categorical type\n",
    "df_subset['cluster'] = df_subset['cluster'].astype('category')\n",
    "\n",
    "# Plotting with seaborn\n",
    "plt.figure(figsize=(10, 6))  # Adjust the size as needed\n",
    "\n",
    "sns.kdeplot(\n",
    "    data=df_subset,\n",
    "    x='avg_transaction_cost',  # Replace with your actual column name\n",
    "    hue='cluster',  # Make sure this is the name of your cluster column\n",
    "    fill=True,\n",
    "    common_norm=False,  # This ensures that the densities are normalized separately for each cluster\n",
    "    alpha=0.7\n",
    ")\n",
    "\n",
    "plt.title('Density Plot of Average Transaction Cost by Cluster')\n",
    "plt.xlabel('Avg Transaction Cost')\n",
    "plt.ylabel('Density')\n",
    "\n",
    "# Use this if you want to replicate the theme_minimal from ggplot2\n",
    "sns.set_theme(style=\"whitegrid\")\n",
    "\n",
    "plt.show()"
   ]
  },
  {
   "cell_type": "markdown",
   "metadata": {},
   "source": [
    "<strong>RESULT:</strong><br>\n",
    "In this density plot we can see the density of the Average Transaction Cost split by each cluster.<br>\n",
    "This gives us a sense of how the average Transaction Cost is distributed for each cluster.<br> \n",
    "\n",
    "We can clearly see that cluster 1 has the highest overall average transaction cost since its density curve is furthest to the right.<br> \n",
    "All the other clusters are mostly the same because they nearly all overlap each other.<br> \n",
    "\n",
    "The variance for cluster 1 is also smaller indicated by the smaller width of the density curve compared to the other 5 clusters."
   ]
  },
  {
   "cell_type": "code",
   "execution_count": null,
   "metadata": {},
   "outputs": [],
   "source": []
  },
  {
   "cell_type": "markdown",
   "metadata": {},
   "source": [
    "## Assigning descriptive name to each of the clusters"
   ]
  },
  {
   "cell_type": "markdown",
   "metadata": {},
   "source": [
    "<strong>As we can see from the visualizations, we'll denote the clusters as follows:</strong><br>\n",
    "\n",
    "Cluster 0: Highest Cost Per Item<br>\n",
    "Cluster 1: Highest Transaction Cost<br>\n",
    "Cluster 2: Fewest Number of Trucks<br>\n",
    "Cluster 3: Lowest Cost Per Item<br>\n",
    "Cluster 4: Most number of Trucks<br>\n",
    "Cluster 5: Fewest Days of Operation<br>\n"
   ]
  },
  {
   "cell_type": "markdown",
   "metadata": {},
   "source": [
    "### The explanations for each group name are provided in the descriptions of each of the plots above."
   ]
  },
  {
   "cell_type": "code",
   "execution_count": 34,
   "metadata": {},
   "outputs": [
    {
     "data": {
      "text/html": [
       "<div>\n",
       "<style scoped>\n",
       "    .dataframe tbody tr th:only-of-type {\n",
       "        vertical-align: middle;\n",
       "    }\n",
       "\n",
       "    .dataframe tbody tr th {\n",
       "        vertical-align: top;\n",
       "    }\n",
       "\n",
       "    .dataframe thead th {\n",
       "        text-align: right;\n",
       "    }\n",
       "</style>\n",
       "<table border=\"1\" class=\"dataframe\">\n",
       "  <thead>\n",
       "    <tr style=\"text-align: right;\">\n",
       "      <th></th>\n",
       "      <th>avg_transaction_cost</th>\n",
       "      <th>mnths_operational</th>\n",
       "      <th>days_yr</th>\n",
       "      <th>avg_cost_item</th>\n",
       "      <th>number_trucks</th>\n",
       "      <th>dist_lobland</th>\n",
       "      <th>bev_percent</th>\n",
       "      <th>cluster</th>\n",
       "    </tr>\n",
       "  </thead>\n",
       "  <tbody>\n",
       "    <tr>\n",
       "      <th>0</th>\n",
       "      <td>12.40</td>\n",
       "      <td>3.0</td>\n",
       "      <td>163</td>\n",
       "      <td>6.83</td>\n",
       "      <td>2</td>\n",
       "      <td>0.12</td>\n",
       "      <td>30.0</td>\n",
       "      <td>2</td>\n",
       "    </tr>\n",
       "    <tr>\n",
       "      <th>1</th>\n",
       "      <td>12.10</td>\n",
       "      <td>1.8</td>\n",
       "      <td>140</td>\n",
       "      <td>3.62</td>\n",
       "      <td>5</td>\n",
       "      <td>269.24</td>\n",
       "      <td>40.5</td>\n",
       "      <td>4</td>\n",
       "    </tr>\n",
       "    <tr>\n",
       "      <th>2</th>\n",
       "      <td>13.52</td>\n",
       "      <td>6.0</td>\n",
       "      <td>139</td>\n",
       "      <td>3.86</td>\n",
       "      <td>5</td>\n",
       "      <td>8.17</td>\n",
       "      <td>35.7</td>\n",
       "      <td>4</td>\n",
       "    </tr>\n",
       "    <tr>\n",
       "      <th>3</th>\n",
       "      <td>15.56</td>\n",
       "      <td>4.0</td>\n",
       "      <td>124</td>\n",
       "      <td>4.05</td>\n",
       "      <td>3</td>\n",
       "      <td>99.09</td>\n",
       "      <td>32.8</td>\n",
       "      <td>1</td>\n",
       "    </tr>\n",
       "    <tr>\n",
       "      <th>4</th>\n",
       "      <td>15.08</td>\n",
       "      <td>8.5</td>\n",
       "      <td>186</td>\n",
       "      <td>6.51</td>\n",
       "      <td>5</td>\n",
       "      <td>33.42</td>\n",
       "      <td>35.6</td>\n",
       "      <td>0</td>\n",
       "    </tr>\n",
       "  </tbody>\n",
       "</table>\n",
       "</div>"
      ],
      "text/plain": [
       "   avg_transaction_cost  mnths_operational  days_yr  avg_cost_item  \\\n",
       "0                 12.40                3.0      163           6.83   \n",
       "1                 12.10                1.8      140           3.62   \n",
       "2                 13.52                6.0      139           3.86   \n",
       "3                 15.56                4.0      124           4.05   \n",
       "4                 15.08                8.5      186           6.51   \n",
       "\n",
       "   number_trucks  dist_lobland  bev_percent cluster  \n",
       "0              2          0.12         30.0       2  \n",
       "1              5        269.24         40.5       4  \n",
       "2              5          8.17         35.7       4  \n",
       "3              3         99.09         32.8       1  \n",
       "4              5         33.42         35.6       0  "
      ]
     },
     "execution_count": 34,
     "metadata": {},
     "output_type": "execute_result"
    }
   ],
   "source": [
    "df_subset.head()"
   ]
  },
  {
   "cell_type": "code",
   "execution_count": 35,
   "metadata": {},
   "outputs": [
    {
     "data": {
      "text/html": [
       "<div>\n",
       "<style scoped>\n",
       "    .dataframe tbody tr th:only-of-type {\n",
       "        vertical-align: middle;\n",
       "    }\n",
       "\n",
       "    .dataframe tbody tr th {\n",
       "        vertical-align: top;\n",
       "    }\n",
       "\n",
       "    .dataframe thead th {\n",
       "        text-align: right;\n",
       "    }\n",
       "</style>\n",
       "<table border=\"1\" class=\"dataframe\">\n",
       "  <thead>\n",
       "    <tr style=\"text-align: right;\">\n",
       "      <th></th>\n",
       "      <th>avg_transaction_cost</th>\n",
       "      <th>mnths_operational</th>\n",
       "      <th>days_yr</th>\n",
       "      <th>avg_cost_item</th>\n",
       "      <th>number_trucks</th>\n",
       "      <th>dist_lobland</th>\n",
       "      <th>bev_percent</th>\n",
       "      <th>cluster</th>\n",
       "    </tr>\n",
       "  </thead>\n",
       "  <tbody>\n",
       "    <tr>\n",
       "      <th>0</th>\n",
       "      <td>12.40</td>\n",
       "      <td>3.0</td>\n",
       "      <td>163</td>\n",
       "      <td>6.83</td>\n",
       "      <td>2</td>\n",
       "      <td>0.12</td>\n",
       "      <td>30.0</td>\n",
       "      <td>Few food truck locations</td>\n",
       "    </tr>\n",
       "    <tr>\n",
       "      <th>1</th>\n",
       "      <td>12.10</td>\n",
       "      <td>1.8</td>\n",
       "      <td>140</td>\n",
       "      <td>3.62</td>\n",
       "      <td>5</td>\n",
       "      <td>269.24</td>\n",
       "      <td>40.5</td>\n",
       "      <td>Many food truck locations</td>\n",
       "    </tr>\n",
       "    <tr>\n",
       "      <th>2</th>\n",
       "      <td>13.52</td>\n",
       "      <td>6.0</td>\n",
       "      <td>139</td>\n",
       "      <td>3.86</td>\n",
       "      <td>5</td>\n",
       "      <td>8.17</td>\n",
       "      <td>35.7</td>\n",
       "      <td>Many food truck locations</td>\n",
       "    </tr>\n",
       "    <tr>\n",
       "      <th>3</th>\n",
       "      <td>15.56</td>\n",
       "      <td>4.0</td>\n",
       "      <td>124</td>\n",
       "      <td>4.05</td>\n",
       "      <td>3</td>\n",
       "      <td>99.09</td>\n",
       "      <td>32.8</td>\n",
       "      <td>Customers large orders</td>\n",
       "    </tr>\n",
       "    <tr>\n",
       "      <th>4</th>\n",
       "      <td>15.08</td>\n",
       "      <td>8.5</td>\n",
       "      <td>186</td>\n",
       "      <td>6.51</td>\n",
       "      <td>5</td>\n",
       "      <td>33.42</td>\n",
       "      <td>35.6</td>\n",
       "      <td>High priced food trucks</td>\n",
       "    </tr>\n",
       "  </tbody>\n",
       "</table>\n",
       "</div>"
      ],
      "text/plain": [
       "   avg_transaction_cost  mnths_operational  days_yr  avg_cost_item  \\\n",
       "0                 12.40                3.0      163           6.83   \n",
       "1                 12.10                1.8      140           3.62   \n",
       "2                 13.52                6.0      139           3.86   \n",
       "3                 15.56                4.0      124           4.05   \n",
       "4                 15.08                8.5      186           6.51   \n",
       "\n",
       "   number_trucks  dist_lobland  bev_percent                    cluster  \n",
       "0              2          0.12         30.0   Few food truck locations  \n",
       "1              5        269.24         40.5  Many food truck locations  \n",
       "2              5          8.17         35.7  Many food truck locations  \n",
       "3              3         99.09         32.8     Customers large orders  \n",
       "4              5         33.42         35.6    High priced food trucks  "
      ]
     },
     "execution_count": 35,
     "metadata": {},
     "output_type": "execute_result"
    }
   ],
   "source": [
    "df_subset['cluster'] = df_subset['cluster'].cat.rename_categories({\n",
    "    0 : 'High priced food trucks',\n",
    "    1 : 'Customers large orders',\n",
    "    2 : 'Few food truck locations',\n",
    "    3 : 'Low priced food trucks',\n",
    "    4 : 'Many food truck locations',\n",
    "    5 : 'Food trucks not open often'\n",
    "})\n",
    "df_subset.head()"
   ]
  },
  {
   "cell_type": "code",
   "execution_count": null,
   "metadata": {},
   "outputs": [],
   "source": []
  }
 ],
 "metadata": {
  "colab": {
   "provenance": [],
   "toc_visible": true
  },
  "kernelspec": {
   "display_name": "Python 3 (ipykernel)",
   "language": "python",
   "name": "python3"
  },
  "language_info": {
   "codemirror_mode": {
    "name": "ipython",
    "version": 3
   },
   "file_extension": ".py",
   "mimetype": "text/x-python",
   "name": "python",
   "nbconvert_exporter": "python",
   "pygments_lexer": "ipython3",
   "version": "3.11.5"
  }
 },
 "nbformat": 4,
 "nbformat_minor": 4
}
